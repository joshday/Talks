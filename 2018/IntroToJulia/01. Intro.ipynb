{
 "cells": [
  {
   "cell_type": "markdown",
   "metadata": {
    "slideshow": {
     "slide_type": "slide"
    }
   },
   "source": [
    "<center>\n",
    "<img src=\"https://upload.wikimedia.org/wikipedia/commons/thumb/6/69/Julia_prog_language.svg/1280px-Julia_prog_language.svg.png\" width=300>\n",
    "</center>\n",
    "\n",
    "# Introduction to Julia\n",
    "\n",
    "## Dr. Josh Day\n",
    "\n",
    "- GitHub: `@joshday`\n",
    "- Email: josh@seqstat.com\n",
    "- Slides: https://github.com/joshday/Talks\n"
   ]
  },
  {
   "cell_type": "markdown",
   "metadata": {
    "slideshow": {
     "slide_type": "slide"
    }
   },
   "source": [
    "# Julia Resources\n",
    "\n",
    "- [https://julialang.org](https://julialang.org)\n",
    "- [https://juliabox.com](https://juliabox.com) (run Julia on the cloud, free tutorials)\n",
    "- [https://juliaobserver.com/](https://juliaobserver.com/) (finding packages)\n",
    "- [https://discourse.julialang.org](https://discourse.julialang.org) (ask for help)\n",
    "- [http://julialang.slack.com/](http://julialang.slack.com/) (ask for help)\n",
    "- [https://docs.julialang.org/en/](https://docs.julialang.org/en/) (documentation)\n",
    "\n",
    "\n",
    "- Note: If looking for Julia tutorials, check the date they were created and the Julia version used.\n",
    "    - Julia 1.0 has very few deprecation warnings (use Julia 0.7 as a stepping stone)\n",
    "    - Some syntax is broken between Julia 0.6 and Julia 1.0!"
   ]
  },
  {
   "cell_type": "markdown",
   "metadata": {
    "slideshow": {
     "slide_type": "slide"
    }
   },
   "source": [
    "# Motivation\n",
    "\n",
    "- Do we need another language?\n",
    "- Let's start with Sapir-Worf Hypothesis"
   ]
  },
  {
   "cell_type": "markdown",
   "metadata": {
    "slideshow": {
     "slide_type": "slide"
    }
   },
   "source": [
    "# Sapir-Worf Hypothesis\n",
    "\n",
    "- Your language influences/determines how you think"
   ]
  },
  {
   "cell_type": "markdown",
   "metadata": {
    "slideshow": {
     "slide_type": "fragment"
    }
   },
   "source": [
    "**How you solve problems is influenced by your tools**\n",
    "\n",
    "- e.g. with R, avoid loops "
   ]
  },
  {
   "cell_type": "markdown",
   "metadata": {
    "slideshow": {
     "slide_type": "slide"
    }
   },
   "source": [
    "# The Two-Language Problem\n",
    "\n",
    "- Write your prototype in an easy language (R)\n",
    "- Write your final version in a fast language (C++)"
   ]
  },
  {
   "cell_type": "markdown",
   "metadata": {
    "slideshow": {
     "slide_type": "slide"
    }
   },
   "source": [
    "# Julia\n",
    "\n",
    "I claim that:\n",
    "\n",
    "### 1) Julia is less controlling over how you solve problems\n",
    "### 2) Julia solves the two-language problem"
   ]
  },
  {
   "cell_type": "markdown",
   "metadata": {
    "slideshow": {
     "slide_type": "slide"
    }
   },
   "source": [
    "# What is Julia?\n",
    "> Julia is a high-level, high-performance dynamic programming language for technical computing, with syntax that is familiar to users of other technical computing environments\n",
    "\n",
    "- Julia is more than just \"Fast R\"\n",
    "    - Performance comes from features that work well together.  \n",
    "    - You can't just take the magic dust that makes Julia fast and sprinkle it on [language of choice]\n",
    "    \n",
    "## Julia Features\n",
    "\n",
    "- Type system\n",
    "- Multiple dispatch\n",
    "- Type Inference\n",
    "- Metaprogramming (macros)\n",
    "- Just-in-time (JIT) compilation using LLVM\n",
    "- Clean, familiar syntax\n",
    "- Most of Julia is written in Julia!"
   ]
  },
  {
   "cell_type": "markdown",
   "metadata": {
    "slideshow": {
     "slide_type": "slide"
    }
   },
   "source": [
    "# Benchmarks\n",
    "\n",
    "<center><img src=\"https://julialang.org/images/benchmarks.svg\" width=900></center>"
   ]
  },
  {
   "cell_type": "markdown",
   "metadata": {
    "slideshow": {
     "slide_type": "slide"
    }
   },
   "source": [
    "# Julia is Just-In-Time Compiled\n",
    "\n",
    "- The first time a function is run, Julia compiles it"
   ]
  },
  {
   "cell_type": "code",
   "execution_count": null,
   "metadata": {},
   "outputs": [],
   "source": [
    "y = rand(10^6)\n",
    "\n",
    "@time sum(y)\n",
    "\n",
    "@time sum(y)"
   ]
  },
  {
   "cell_type": "markdown",
   "metadata": {
    "slideshow": {
     "slide_type": "slide"
    }
   },
   "source": [
    "# Generic Code Gets Specialized\n",
    "\n",
    "- Julia specializes on **types of arguments** (without you telling Julia what those types are)"
   ]
  },
  {
   "cell_type": "code",
   "execution_count": null,
   "metadata": {},
   "outputs": [],
   "source": [
    "f(x) = x + 4\n",
    "\n",
    "@time f(1.0)\n",
    "@time f(1.0)"
   ]
  },
  {
   "cell_type": "code",
   "execution_count": null,
   "metadata": {},
   "outputs": [],
   "source": [
    "@time f(1)\n",
    "@time f(1)"
   ]
  },
  {
   "cell_type": "markdown",
   "metadata": {
    "slideshow": {
     "slide_type": "slide"
    }
   },
   "source": [
    "# Most of Julia is Written in Julia\n",
    "\n",
    "- Easy to find out what's going on inside a function \n",
    "    - `@edit`\n",
    "- Also most Julia packages are 100% Julia\n",
    "    - **Tensorflow**:\n",
    "    ![](tensorflow.png)\n",
    "    - **Flux.jl**\n",
    "    ![](flux.png)"
   ]
  },
  {
   "cell_type": "markdown",
   "metadata": {
    "slideshow": {
     "slide_type": "slide"
    }
   },
   "source": [
    "# Julia Makes Use of Metaprogramming\n",
    "\n",
    "- A function of an expression that can be altered before it is evaluated\n",
    "- Code that writes code\n",
    "- Can do everything a function can do plus much more"
   ]
  },
  {
   "cell_type": "code",
   "execution_count": null,
   "metadata": {},
   "outputs": [],
   "source": [
    "macro thing(x)\n",
    "    println(typeof(x))\n",
    "    :(\"This is a thing\")\n",
    "end\n",
    "\n",
    "@thing 1 + 2 + 3"
   ]
  },
  {
   "cell_type": "code",
   "execution_count": null,
   "metadata": {
    "slideshow": {
     "slide_type": "-"
    }
   },
   "outputs": [],
   "source": [
    "@code_llvm f(1)"
   ]
  },
  {
   "cell_type": "markdown",
   "metadata": {},
   "source": [
    "- What is the difference between `show` and `@show`?"
   ]
  },
  {
   "cell_type": "code",
   "execution_count": null,
   "metadata": {},
   "outputs": [],
   "source": [
    "val = 100\n",
    "@show val;"
   ]
  },
  {
   "cell_type": "code",
   "execution_count": null,
   "metadata": {},
   "outputs": [],
   "source": [
    "show(val)"
   ]
  },
  {
   "cell_type": "markdown",
   "metadata": {},
   "source": [
    "## One of the Most Useful Macros: `@time`\n",
    "\n",
    "- Provides elapsed time **as well as allocations**\n",
    "- Removing temporary allocations (garbage collection) is expensive!\n",
    "- It's impossible to oversell how useful this is"
   ]
  },
  {
   "cell_type": "code",
   "execution_count": null,
   "metadata": {},
   "outputs": [],
   "source": [
    "@time rand(10^6);"
   ]
  },
  {
   "cell_type": "markdown",
   "metadata": {
    "slideshow": {
     "slide_type": "slide"
    }
   },
   "source": [
    "# Julia Has a Great Type System"
   ]
  },
  {
   "cell_type": "code",
   "execution_count": null,
   "metadata": {},
   "outputs": [],
   "source": [
    "rand(2, 2)"
   ]
  },
  {
   "cell_type": "code",
   "execution_count": null,
   "metadata": {},
   "outputs": [],
   "source": [
    "typeof(1.0)"
   ]
  },
  {
   "cell_type": "code",
   "execution_count": null,
   "metadata": {},
   "outputs": [],
   "source": [
    "typeof(1)"
   ]
  },
  {
   "cell_type": "markdown",
   "metadata": {
    "slideshow": {
     "slide_type": "slide"
    }
   },
   "source": [
    "# Types Define Sets of Things\n",
    "\n",
    "![](tree.png)\n",
    "\n",
    "- Abstract types \"don't exist\".  They define a set of things that behave similarly.\n",
    "- Concrete types \"are real\".  They exist in a set of things defined by an abstract type.\n",
    "    - Concrete types do not have subtypes\n",
    "\n",
    "Type tree from `Any` to `Float64`:\n",
    "- Any (abstract)\n",
    "    - Number (abstract)\n",
    "        - Real (abstract)\n",
    "            - AbstractFloat (abstract)\n",
    "                - Float64 (concrete)\n",
    "                \n",
    "Is a `Float64` a `Number`? Yes\n",
    "\n",
    "Is a `Float64` an `AbstractFloat`? Yes\n",
    "\n",
    "One \"set\" is smaller than the other: `AbstractFloat <: Number`"
   ]
  },
  {
   "cell_type": "code",
   "execution_count": null,
   "metadata": {},
   "outputs": [],
   "source": [
    "supertype(Float64)"
   ]
  },
  {
   "cell_type": "code",
   "execution_count": null,
   "metadata": {},
   "outputs": [],
   "source": [
    "supertype(AbstractFloat)"
   ]
  },
  {
   "cell_type": "code",
   "execution_count": null,
   "metadata": {},
   "outputs": [],
   "source": [
    "supertype(Real)"
   ]
  },
  {
   "cell_type": "code",
   "execution_count": null,
   "metadata": {},
   "outputs": [],
   "source": [
    "supertype(Number)"
   ]
  },
  {
   "cell_type": "markdown",
   "metadata": {
    "slideshow": {
     "slide_type": "slide"
    }
   },
   "source": [
    "# Programs are Organized Around Multiple Dispatch\n",
    "\n",
    "- The idea that different code gets called depending on the types of the arguments\n",
    "- Multiple dispatch is amazing"
   ]
  },
  {
   "cell_type": "code",
   "execution_count": null,
   "metadata": {},
   "outputs": [],
   "source": [
    "f(x::Number) = \"This is a Number\"\n",
    "f(x::String) = \"This is a String\"\n",
    "f(x) = \"This is something else\""
   ]
  },
  {
   "cell_type": "code",
   "execution_count": null,
   "metadata": {},
   "outputs": [],
   "source": [
    "f(1)"
   ]
  },
  {
   "cell_type": "code",
   "execution_count": null,
   "metadata": {},
   "outputs": [],
   "source": [
    "f(\"asdf\")"
   ]
  },
  {
   "cell_type": "code",
   "execution_count": null,
   "metadata": {},
   "outputs": [],
   "source": [
    "f([1, 2])"
   ]
  },
  {
   "cell_type": "markdown",
   "metadata": {
    "slideshow": {
     "slide_type": "slide"
    }
   },
   "source": [
    "## Quintessential R vs. Julia\n",
    "\n",
    "- Consider R's `pnorm`, `dnorm`, `qnorm`, etc. family of functions.\n",
    "- In Julia, multiple dispatch is used to create a grammar/interface for \"how to talk about\" a set of things\n",
    "    - What is the interface for probability distributions?"
   ]
  },
  {
   "cell_type": "code",
   "execution_count": null,
   "metadata": {
    "slideshow": {
     "slide_type": "-"
    }
   },
   "outputs": [],
   "source": [
    "using Distributions\n",
    "\n",
    "d = Normal(0, 1)\n",
    "d2 = Gamma(3, 5);"
   ]
  },
  {
   "cell_type": "code",
   "execution_count": null,
   "metadata": {},
   "outputs": [],
   "source": [
    "mean(d), var(d), cdf(d, 1)"
   ]
  },
  {
   "cell_type": "code",
   "execution_count": null,
   "metadata": {},
   "outputs": [],
   "source": [
    "mean(d2), var(d2), cdf(d2, 1)"
   ]
  },
  {
   "cell_type": "markdown",
   "metadata": {
    "slideshow": {
     "slide_type": "slide"
    }
   },
   "source": [
    "## A Concrete Example\n",
    "\n",
    "- Here is a very naive Newton's algorithm for finding the quantile `q` of a distribution `d`\n",
    "- I haven't told Julia anything about types, but this will work as long as \n",
    "    1. `d` is something that I can calculate the `mean`, `cdf`, and `pdf` of\n",
    "    2. `q` is a Number\n",
    "- Also because of the JIT, I get specialized code for each distribution!"
   ]
  },
  {
   "cell_type": "code",
   "execution_count": null,
   "metadata": {},
   "outputs": [],
   "source": [
    "function my_quantile(d, q)\n",
    "    θ = mean(d)\n",
    "    for i in 1:20\n",
    "        θ -= (cdf(d, θ) - q) / pdf(d, θ)\n",
    "    end\n",
    "    θ\n",
    "end"
   ]
  },
  {
   "cell_type": "code",
   "execution_count": null,
   "metadata": {},
   "outputs": [],
   "source": [
    "my_quantile(Normal(), .5)"
   ]
  },
  {
   "cell_type": "code",
   "execution_count": null,
   "metadata": {},
   "outputs": [],
   "source": [
    "my_quantile(Gamma(5, 1), .3)"
   ]
  },
  {
   "cell_type": "markdown",
   "metadata": {
    "slideshow": {
     "slide_type": "slide"
    }
   },
   "source": [
    "# Julia's Growth (Number of Packages)\n",
    "\n",
    "![](https://pkg.julialang.org/img/allver.svg)"
   ]
  },
  {
   "cell_type": "markdown",
   "metadata": {
    "slideshow": {
     "slide_type": "slide"
    }
   },
   "source": [
    "# Julia's Growth (GitHub Stars)\n",
    "\n",
    "![](https://pkg.julialang.org/img/stars.svg)"
   ]
  },
  {
   "cell_type": "markdown",
   "metadata": {},
   "source": [
    "# Pass by Reference\n",
    "\n",
    "- R makes a copy of function arguments\n",
    "    - You can't do any damage\n",
    "    - But you lose performance\n",
    "- In Julia, you're free to really mess with objects inside a function\n",
    "- By convention, if you are **mutating** an argument, end the function with `!`"
   ]
  },
  {
   "cell_type": "code",
   "execution_count": null,
   "metadata": {},
   "outputs": [],
   "source": [
    "# Don't do this\n",
    "function totally_safe_function(x)\n",
    "    x .= 0\n",
    "end\n",
    "\n",
    "val = [1,2,3,4]\n",
    "\n",
    "totally_safe_function(val)\n",
    "\n",
    "val"
   ]
  },
  {
   "cell_type": "markdown",
   "metadata": {},
   "source": [
    "# Broadcasting\n",
    "\n",
    "- `sin` of a vector is not defined\n",
    "- Most languages use the syntactic sugar that `sin` of a vector means \"apply `sin` to each element of the vector\"\n",
    "- Julia doesn't, because\n",
    "    1. It's wrong\n",
    "    2. It's unnecessary and can be generalized to all functions of singletons"
   ]
  },
  {
   "cell_type": "code",
   "execution_count": null,
   "metadata": {},
   "outputs": [],
   "source": [
    "sin(rand(5))"
   ]
  },
  {
   "cell_type": "markdown",
   "metadata": {},
   "source": [
    "- Dot syntax does broadcasting/maps the function to each element"
   ]
  },
  {
   "cell_type": "code",
   "execution_count": null,
   "metadata": {},
   "outputs": [],
   "source": [
    "sin.(rand(5))"
   ]
  },
  {
   "cell_type": "markdown",
   "metadata": {},
   "source": [
    "- Multiple broadcasting functions can be chained together (without creating temporary copies)"
   ]
  },
  {
   "cell_type": "code",
   "execution_count": null,
   "metadata": {},
   "outputs": [],
   "source": [
    "cos.(sin.(abs.(rand(2, 2))))"
   ]
  },
  {
   "cell_type": "markdown",
   "metadata": {},
   "source": [
    "# Julia is Lazy\n",
    "\n",
    "- Many types in Julia are lazy\n",
    "- `AbstractRange` subtypes store the information for generating a range of numbers, not the numbers themselves."
   ]
  },
  {
   "cell_type": "code",
   "execution_count": null,
   "metadata": {},
   "outputs": [],
   "source": [
    "rng = 1:100"
   ]
  },
  {
   "cell_type": "code",
   "execution_count": null,
   "metadata": {},
   "outputs": [],
   "source": [
    "typeof(rng)"
   ]
  },
  {
   "cell_type": "code",
   "execution_count": null,
   "metadata": {},
   "outputs": [],
   "source": [
    "fieldnames(typeof(rng))"
   ]
  },
  {
   "cell_type": "code",
   "execution_count": null,
   "metadata": {},
   "outputs": [],
   "source": [
    "rng.start, rng.stop"
   ]
  },
  {
   "cell_type": "code",
   "execution_count": null,
   "metadata": {},
   "outputs": [],
   "source": [
    "rng[50]"
   ]
  },
  {
   "cell_type": "markdown",
   "metadata": {},
   "source": [
    "- You can typically turn a lazy type into a \"real thing\" with `collect`"
   ]
  },
  {
   "cell_type": "code",
   "execution_count": null,
   "metadata": {},
   "outputs": [],
   "source": [
    "collect(rng)"
   ]
  },
  {
   "cell_type": "markdown",
   "metadata": {},
   "source": [
    "# For Loops\n",
    "\n",
    "- **In Julia, loops are fast.  Don't avoid them.**\n",
    "- It took me several weeks of Julia programming before I shook my R habit of vectorizing everything\n",
    "\n",
    "\n",
    "- Tip: Use `eachindex` to iterate over the elements of a collection"
   ]
  },
  {
   "cell_type": "code",
   "execution_count": null,
   "metadata": {},
   "outputs": [],
   "source": [
    "x = rand(5)\n",
    "\n",
    "for i in eachindex(x)\n",
    "    println(x[i])\n",
    "end"
   ]
  },
  {
   "cell_type": "code",
   "execution_count": null,
   "metadata": {},
   "outputs": [],
   "source": [
    "for xi in x\n",
    "    println(xi)\n",
    "end"
   ]
  },
  {
   "cell_type": "code",
   "execution_count": null,
   "metadata": {},
   "outputs": [],
   "source": [
    "for (i, xi) in enumerate(x)\n",
    "    println(\"Element $i is $xi\")\n",
    "end"
   ]
  },
  {
   "cell_type": "markdown",
   "metadata": {},
   "source": [
    "# Anonymous Functions and the `do` Syntax\n",
    "\n",
    "- An **anonymous function** is a function you probabily won't use again\n",
    "    - Created with syntax: `(x,y,z) -> x + y + z`\n",
    "- `do` blocks:\n",
    "    - An easy way of writing longer anonymous functions\n",
    "    - For functions that accept a function as its first argument\n",
    "- The following are different ways of doing the same thing"
   ]
  },
  {
   "cell_type": "code",
   "execution_count": null,
   "metadata": {},
   "outputs": [],
   "source": [
    "map(abs, [-1, -2, -3])"
   ]
  },
  {
   "cell_type": "code",
   "execution_count": null,
   "metadata": {},
   "outputs": [],
   "source": [
    "map(x -> abs(x), [-1, -2, -3])"
   ]
  },
  {
   "cell_type": "code",
   "execution_count": null,
   "metadata": {},
   "outputs": [],
   "source": [
    "map([-1, -2, -3]) do x\n",
    "    abs(x)\n",
    "end"
   ]
  },
  {
   "cell_type": "markdown",
   "metadata": {},
   "source": [
    "# Tuples and NamedTuples\n",
    "\n",
    "- Efficient way to join heterogenous objects together in a type-stable way"
   ]
  },
  {
   "cell_type": "code",
   "execution_count": null,
   "metadata": {},
   "outputs": [],
   "source": [
    "(\"I\", \"am\", \"a\", \"tuple\", 1 , 2, 3.0)"
   ]
  },
  {
   "cell_type": "markdown",
   "metadata": {},
   "source": [
    "- You can also give items a name"
   ]
  },
  {
   "cell_type": "code",
   "execution_count": null,
   "metadata": {},
   "outputs": [],
   "source": [
    "nt = (x = 1, y = 2)"
   ]
  },
  {
   "cell_type": "code",
   "execution_count": null,
   "metadata": {},
   "outputs": [],
   "source": [
    "nt.x"
   ]
  },
  {
   "cell_type": "markdown",
   "metadata": {},
   "source": [
    "# Creating Your Own Types\n",
    "\n",
    "- `struct`: Contents that won't change\n",
    "- `mutable struct`: Contents that may change"
   ]
  },
  {
   "cell_type": "code",
   "execution_count": null,
   "metadata": {},
   "outputs": [],
   "source": [
    "struct Population\n",
    "    x::Vector{Int}\n",
    "end\n",
    "\n",
    "struct SampleWithReplacement\n",
    "    x::Vector{Int}\n",
    "end"
   ]
  },
  {
   "cell_type": "code",
   "execution_count": null,
   "metadata": {},
   "outputs": [],
   "source": [
    "SampleWithReplacement(pop::Population, n) = SampleWithReplacement(rand(pop.x, n))"
   ]
  },
  {
   "cell_type": "code",
   "execution_count": null,
   "metadata": {},
   "outputs": [],
   "source": [
    "pop = Population(collect(1:10))"
   ]
  },
  {
   "cell_type": "code",
   "execution_count": null,
   "metadata": {},
   "outputs": [],
   "source": [
    "pop.x"
   ]
  },
  {
   "cell_type": "code",
   "execution_count": null,
   "metadata": {},
   "outputs": [],
   "source": [
    "SampleWithReplacement(pop, 8)"
   ]
  },
  {
   "cell_type": "markdown",
   "metadata": {
    "slideshow": {
     "slide_type": "slide"
    }
   },
   "source": [
    "# Interop\n",
    "\n",
    "- You don't need to leave your favorite R/Python/C/Fortran/C++ code behind\n",
    "- All are easily callable from Julia\n",
    "\n",
    "## R\n",
    "\n",
    "You can \"send\" objects from Julia to R using interpolation syntax `$`"
   ]
  },
  {
   "cell_type": "code",
   "execution_count": null,
   "metadata": {},
   "outputs": [],
   "source": [
    "using RCall\n",
    "\n",
    "x = randn(100)\n",
    "\n",
    "R\"hist($x)\""
   ]
  },
  {
   "cell_type": "code",
   "execution_count": null,
   "metadata": {
    "slideshow": {
     "slide_type": "slide"
    }
   },
   "outputs": [],
   "source": [
    "R\"library(ggplot2); qplot($x)\""
   ]
  },
  {
   "cell_type": "markdown",
   "metadata": {
    "slideshow": {
     "slide_type": "slide"
    }
   },
   "source": [
    "## Python"
   ]
  },
  {
   "cell_type": "code",
   "execution_count": null,
   "metadata": {
    "slideshow": {
     "slide_type": "-"
    }
   },
   "outputs": [],
   "source": [
    "using PyCall\n",
    "\n",
    "@pyimport numpy.random as nr\n",
    "\n",
    "nr.rand(3, 4)"
   ]
  },
  {
   "cell_type": "markdown",
   "metadata": {},
   "source": [
    "# REPL Modes\n",
    "\n",
    "- Your first experience with Julia is probably through the REPL (read-eval-print-loop)\n",
    "\n",
    "There are several **REPL Modes** that can be activated by certain characters:\n",
    "\n",
    "- `?` (help)\n",
    "- `]` (package manager)\n",
    "- `;` (shell)\n",
    "- `$` (R via [RCall.jl](https://github.com/JuliaInterop/RCall.jl))"
   ]
  },
  {
   "cell_type": "markdown",
   "metadata": {},
   "source": [
    "# Linear Algebra\n",
    "\n",
    "- **I could do multiple lectures on numerical linear algebra in Julia.  It's fantastic.**\n",
    "- Call `BLAS` functions directly\n",
    "- In-place (mutating) operations lead to huge performance gains!\n",
    "- Types for storing matrix factorizations for quickly solving linear systems, etc."
   ]
  },
  {
   "cell_type": "code",
   "execution_count": null,
   "metadata": {},
   "outputs": [],
   "source": [
    "using LinearAlgebra"
   ]
  },
  {
   "cell_type": "code",
   "execution_count": null,
   "metadata": {},
   "outputs": [],
   "source": [
    "x = randn(10, 2)\n",
    "\n",
    "lu(x)"
   ]
  },
  {
   "cell_type": "code",
   "execution_count": null,
   "metadata": {},
   "outputs": [],
   "source": [
    "c = cholesky(x'x)"
   ]
  },
  {
   "cell_type": "code",
   "execution_count": null,
   "metadata": {},
   "outputs": [],
   "source": [
    "inv(c)  # You very rarely need to do this"
   ]
  },
  {
   "cell_type": "code",
   "execution_count": null,
   "metadata": {},
   "outputs": [],
   "source": [
    "svd(x)"
   ]
  },
  {
   "cell_type": "code",
   "execution_count": null,
   "metadata": {},
   "outputs": [],
   "source": [
    "eigen(x'x)"
   ]
  },
  {
   "cell_type": "markdown",
   "metadata": {},
   "source": [
    "# Standard Library\n",
    "\n",
    "- Some things you may expect to already be in Julia need to be loaded\n",
    "    - `using Statistics`\n",
    "    - `using LinearAlgebra`\n",
    "    - `using DelimitedFiles`"
   ]
  },
  {
   "cell_type": "markdown",
   "metadata": {},
   "source": [
    "# [State of the Art Packages in Julia 1.0](http://www.stochasticlifestyle.com/some-state-of-the-art-packages-in-julia-v1-0/) (Read this.  Seriously.)"
   ]
  },
  {
   "cell_type": "markdown",
   "metadata": {},
   "source": [
    "# [OnlineStats.jl](https://github.com/joshday/OnlineStats.jl) (Single-pass algorithms for statistics)\n",
    "\n",
    "- Essentially my PhD research\n",
    "- Handles both data that is streaming and larger than memory"
   ]
  },
  {
   "cell_type": "code",
   "execution_count": null,
   "metadata": {},
   "outputs": [],
   "source": [
    "using OnlineStats\n",
    "\n",
    "x = randn(10^6)\n",
    "\n",
    "o = Series(Mean(), Variance(), P2Quantile(.5))\n",
    "\n",
    "for xi in x\n",
    "    fit!(o, xi)\n",
    "end\n",
    "\n",
    "o"
   ]
  },
  {
   "cell_type": "code",
   "execution_count": null,
   "metadata": {},
   "outputs": [],
   "source": [
    "using Plots\n",
    "\n",
    "h = fit!(Hist(100), randn(10^6))\n",
    "\n",
    "plot(h)"
   ]
  },
  {
   "cell_type": "markdown",
   "metadata": {},
   "source": [
    "# [Flux.jl](https://github.com/FluxML/Flux.jl) (Neural Networks)\n",
    "\n",
    "Flux has powerful high-level features, and common architectures can be defined in a few lines.\n",
    "\n",
    "```julia\n",
    "model = Chain(\n",
    "    Dense(768, 128, σ),\n",
    "    LSTM(128, 256),\n",
    "    LSTM(256, 128),\n",
    "    Dense(128, 10),\n",
    "    softmax\n",
    ")\n",
    "\n",
    "loss(x, y) = crossentropy(model(x), y)\n",
    "\n",
    "Flux.train!(loss, data, ADAM(...))\n",
    "```"
   ]
  },
  {
   "cell_type": "markdown",
   "metadata": {},
   "source": [
    "# [DifferentialEquations.jl](https://github.com/JuliaDiffEq/DifferentialEquations.jl)\n",
    "\n",
    "![](diffeq.png)"
   ]
  },
  {
   "cell_type": "markdown",
   "metadata": {},
   "source": [
    "# [JuMP.jl](https://github.com/JuliaOpt/JuMP.jl) (Optimization)\n",
    "\n",
    "```julia\n",
    "using JuMP\n",
    "using Clp\n",
    "\n",
    "m = Model(solver = ClpSolver())\n",
    "@variable(m, 0 <= x <= 2 )\n",
    "@variable(m, 0 <= y <= 30 )\n",
    "\n",
    "@objective(m, Max, 5x + 3*y )\n",
    "@constraint(m, 1x + 5y <= 3.0 )\n",
    "\n",
    "print(m)\n",
    "\n",
    "status = solve(m)\n",
    "\n",
    "println(\"Objective value: \", getobjectivevalue(m))\n",
    "println(\"x = \", getvalue(x))\n",
    "println(\"y = \", getvalue(y))\n",
    "```"
   ]
  },
  {
   "cell_type": "markdown",
   "metadata": {},
   "source": [
    "# [Interact.jl](https://github.com/JuliaGizmos/Interact.jl)"
   ]
  },
  {
   "cell_type": "code",
   "execution_count": 1,
   "metadata": {},
   "outputs": [
    {
     "ename": "ArgumentError",
     "evalue": "ArgumentError: Package Interact not found in current path:\n- Run `import Pkg; Pkg.add(\"Interact\")` to install the Interact package.\n",
     "output_type": "error",
     "traceback": [
      "ArgumentError: Package Interact not found in current path:\n- Run `import Pkg; Pkg.add(\"Interact\")` to install the Interact package.\n",
      "",
      "Stacktrace:",
      " [1] require(::Module, ::Symbol) at ./loading.jl:823",
      " [2] top-level scope at In[1]:1"
     ]
    }
   ],
   "source": [
    "using Interact, Plots, Random\n",
    "\n",
    "@manipulate for i in 1:50\n",
    "    Random.seed!(123)\n",
    "    scatter(rand(i), alpha = i/50, ylim=(0,1), xlim=(0,50))\n",
    "    plot!(sin, 0, i)\n",
    "end"
   ]
  },
  {
   "cell_type": "code",
   "execution_count": null,
   "metadata": {},
   "outputs": [],
   "source": []
  }
 ],
 "metadata": {
  "kernelspec": {
   "display_name": "Julia 1.7.3",
   "language": "julia",
   "name": "julia-1.7"
  },
  "language_info": {
   "file_extension": ".jl",
   "mimetype": "application/julia",
   "name": "julia",
   "version": "1.1.1"
  }
 },
 "nbformat": 4,
 "nbformat_minor": 2
}
