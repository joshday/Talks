{
 "cells": [
  {
   "cell_type": "code",
   "execution_count": 1,
   "metadata": {},
   "outputs": [
    {
     "name": "stderr",
     "output_type": "stream",
     "text": [
      "┌ Info: Precompiling CSV [336ed68f-0bac-5ca0-87d4-7b16caf5d00b]\n",
      "└ @ Base loading.jl:1273\n",
      "┌ Info: Precompiling JuliaDB [a93385a2-3734-596a-9a66-3cfbb77141e6]\n",
      "└ @ Base loading.jl:1273\n",
      "ERROR: LoadError: LoadError: UndefVarError: Split not defined\n",
      "Stacktrace:\n",
      " [1] top-level scope at /Users/joshday/.julia/dev/OnlineStats/src/ml/trees.jl:36\n",
      " [2] include at ./boot.jl:328 [inlined]\n",
      " [3] include_relative(::Module, ::String) at ./loading.jl:1105\n",
      " [4] include at ./Base.jl:31 [inlined]\n",
      " [5] include(::String) at /Users/joshday/.julia/dev/OnlineStats/src/OnlineStats.jl:1\n",
      " [6] top-level scope at /Users/joshday/.julia/dev/OnlineStats/src/OnlineStats.jl:102\n",
      " [7] include at ./boot.jl:328 [inlined]\n",
      " [8] include_relative(::Module, ::String) at ./loading.jl:1105\n",
      " [9] include(::Module, ::String) at ./Base.jl:31\n",
      " [10] top-level scope at none:2\n",
      " [11] eval at ./boot.jl:330 [inlined]\n",
      " [12] eval(::Expr) at ./client.jl:425\n",
      " [13] top-level scope at ./none:3\n",
      "in expression starting at /Users/joshday/.julia/dev/OnlineStats/src/ml/trees.jl:36\n",
      "in expression starting at /Users/joshday/.julia/dev/OnlineStats/src/OnlineStats.jl:102\n",
      "ERROR: LoadError: Failed to precompile OnlineStats [a15396b6-48d5-5d58-9928-6d29437db91e] to /Users/joshday/.julia/compiled/v1.3/OnlineStats/G3mU6_wM9Rk.ji.\n",
      "Stacktrace:\n",
      " [1] error(::String) at ./error.jl:33\n",
      " [2] compilecache(::Base.PkgId, ::String) at ./loading.jl:1283\n",
      " [3] _require(::Base.PkgId) at ./loading.jl:1024\n",
      " [4] require(::Base.PkgId) at ./loading.jl:922\n",
      " [5] require(::Module, ::Symbol) at ./loading.jl:917\n",
      " [6] include at ./boot.jl:328 [inlined]\n",
      " [7] include_relative(::Module, ::String) at ./loading.jl:1105\n",
      " [8] include(::Module, ::String) at ./Base.jl:31\n",
      " [9] top-level scope at none:2\n",
      " [10] eval at ./boot.jl:330 [inlined]\n",
      " [11] eval(::Expr) at ./client.jl:425\n",
      " [12] top-level scope at ./none:3\n",
      "in expression starting at /Users/joshday/.julia/packages/JuliaDB/7cG1k/src/JuliaDB.jl:21\n"
     ]
    },
    {
     "ename": "ErrorException",
     "evalue": "Failed to precompile JuliaDB [a93385a2-3734-596a-9a66-3cfbb77141e6] to /Users/joshday/.julia/compiled/v1.3/JuliaDB/4FA8g_wM9Rk.ji.",
     "output_type": "error",
     "traceback": [
      "Failed to precompile JuliaDB [a93385a2-3734-596a-9a66-3cfbb77141e6] to /Users/joshday/.julia/compiled/v1.3/JuliaDB/4FA8g_wM9Rk.ji.",
      "",
      "Stacktrace:",
      " [1] error(::String) at ./error.jl:33",
      " [2] compilecache(::Base.PkgId, ::String) at ./loading.jl:1283",
      " [3] _require(::Base.PkgId) at ./loading.jl:1024",
      " [4] require(::Base.PkgId) at ./loading.jl:922",
      " [5] require(::Module, ::Symbol) at ./loading.jl:917",
      " [6] top-level scope at In[1]:1"
     ]
    }
   ],
   "source": [
    "using Dates, CSV, JuliaDB, Plots, PlotThemes, Interact, \n",
    "    HTTP, SingularSpectrumAnalysis, ProgressMeter\n",
    "using OnlineStats\n",
    "theme(:bright)"
   ]
  },
  {
   "cell_type": "markdown",
   "metadata": {},
   "source": [
    "# OnlineStats and Big Data Viz"
   ]
  },
  {
   "cell_type": "markdown",
   "metadata": {},
   "source": [
    "## `Partition` and `IndexedPartition`\n",
    "\n",
    "- Plot any-sized dataset.\n",
    "- Here are two plots with **100 Million observations**:"
   ]
  },
  {
   "cell_type": "code",
   "execution_count": null,
   "metadata": {},
   "outputs": [],
   "source": [
    "o = Partition(Series(Mean(), Extrema()))\n",
    "\n",
    "y = randn()\n",
    "\n",
    "@showprogress for _ in 1:10^8\n",
    "    fit!(o,  global y += randn())\n",
    "end\n",
    "\n",
    "plot(o)"
   ]
  },
  {
   "cell_type": "code",
   "execution_count": null,
   "metadata": {},
   "outputs": [],
   "source": [
    "o = IndexedPartition(Float64, KHist(10))\n",
    "\n",
    "@showprogress for _ in 1:10^8\n",
    "    fit!(o,  (randn(), randn()))\n",
    "end\n",
    "\n",
    "plot(o)"
   ]
  },
  {
   "cell_type": "markdown",
   "metadata": {},
   "source": [
    "<br><br><br><br><br><br><br><br><br><br><br><br><br><br>\n",
    "\n",
    "# Kaggle's Huge Stock Market Dataset\n",
    "\n",
    "- Source: https://www.kaggle.com/borismarjanovic/price-volume-data-for-all-us-stocks-etfs\n",
    "- OHLC data for each stock/ETF (each is a separate CSV) traded in the US\n",
    "- Just over 700MB"
   ]
  },
  {
   "cell_type": "code",
   "execution_count": null,
   "metadata": {},
   "outputs": [],
   "source": [
    "path = \"/Users/joshday/datasets/price-volume-data-for-all-us-stocks-etfs/Stocks/\"\n",
    "\n",
    "readdir(path)"
   ]
  },
  {
   "cell_type": "code",
   "execution_count": null,
   "metadata": {},
   "outputs": [],
   "source": [
    ";head \"$path/aapl.us.txt\""
   ]
  },
  {
   "cell_type": "markdown",
   "metadata": {},
   "source": [
    "## Statistics/Plots Directly From CSV\n",
    "\n",
    "- Via **`CSV.File`**"
   ]
  },
  {
   "cell_type": "code",
   "execution_count": null,
   "metadata": {},
   "outputs": [],
   "source": [
    "function plot_high_low(stock; kw...)\n",
    "    o = IndexedPartition(Date, Extrema(), 500)\n",
    "    for row in CSV.File(\"$path/$stock.us.txt\") \n",
    "        fit!(o, [row.Date => row.Low, row.Date => row.High])\n",
    "    end\n",
    "    t = uppercase(stock) * \" (nobs = $(nobs(o)))\"\n",
    "    plot(o; xlab=\"Date\", title=t, legend=false, kw...)\n",
    "end"
   ]
  },
  {
   "cell_type": "code",
   "execution_count": null,
   "metadata": {
    "scrolled": false
   },
   "outputs": [],
   "source": [
    "plot_high_low(\"aapl\")"
   ]
  },
  {
   "cell_type": "markdown",
   "metadata": {},
   "source": [
    "<br><br><br><br><br><br><br><br><br><br><br><br><br><br><br><br>\n",
    "\n",
    "## ...But this loads the entire CSV!\n",
    "\n",
    "Even though we are creating the plots with OnlineStats, the entire file is loaded into memory.\n",
    "\n",
    "### `CSV.Rows`\n",
    "\n",
    "- `CSV.Rows` lets you lazily read from a CSV file\n",
    "    - **Minimal memory footprint**\n",
    "    - At the cost of **no type inference** (everything is treated as `String`)"
   ]
  },
  {
   "cell_type": "code",
   "execution_count": null,
   "metadata": {},
   "outputs": [],
   "source": [
    "function plot_high_low2(stock; kw...)\n",
    "    o = IndexedPartition(Date, Extrema(), 500)\n",
    "    for row in CSV.Rows(\"$path/$stock.us.txt\")\n",
    "        dt = Date(row.Date, \"yyyy-mm-dd\")\n",
    "        low = parse(Float64, row.Low)\n",
    "        hi = parse(Float64, row.High)\n",
    "        fit!(o, [dt => low, dt => hi])\n",
    "    end\n",
    "    t = uppercase(stock) * \" (nobs = $(nobs(o)))\"\n",
    "    plot(o; xlab=\"Date\", title=t, legend=false, kw...)\n",
    "end"
   ]
  },
  {
   "cell_type": "code",
   "execution_count": null,
   "metadata": {},
   "outputs": [],
   "source": [
    "plot_high_low2(\"aapl\")"
   ]
  },
  {
   "cell_type": "code",
   "execution_count": null,
   "metadata": {},
   "outputs": [],
   "source": [
    "plot(plot_high_low2(\"aapl\"), plot_high_low2(\"aapl\"), layout=(2,1), link=:x)"
   ]
  },
  {
   "cell_type": "markdown",
   "metadata": {},
   "source": [
    "<br><br><br><br><br><br><br><br><br><br><br><br><br>\n",
    "\n",
    "## Loading Multiple Datasets at Once\n",
    "\n",
    "- Working with only one CSV at a time limits what kinds of analyses we can do."
   ]
  },
  {
   "cell_type": "code",
   "execution_count": null,
   "metadata": {
    "scrolled": false
   },
   "outputs": [],
   "source": [
    "t = loadtable(path, filenamecol = :Stock)"
   ]
  },
  {
   "cell_type": "code",
   "execution_count": null,
   "metadata": {},
   "outputs": [],
   "source": [
    "table(t, pkey=(1,2))"
   ]
  },
  {
   "cell_type": "code",
   "execution_count": null,
   "metadata": {},
   "outputs": [],
   "source": [
    "o = CovMatrix()\n",
    "\n",
    "fit!(o, select(t, (:Open, :High)))"
   ]
  },
  {
   "cell_type": "code",
   "execution_count": null,
   "metadata": {},
   "outputs": [],
   "source": [
    "plot(o)"
   ]
  },
  {
   "cell_type": "markdown",
   "metadata": {},
   "source": [
    "### Passing an `OnlineStat` as a reducer"
   ]
  },
  {
   "cell_type": "code",
   "execution_count": null,
   "metadata": {},
   "outputs": [],
   "source": [
    "reduce(Mean(), t, select=(:Open, :Close) => x -> -(x...))"
   ]
  },
  {
   "cell_type": "markdown",
   "metadata": {},
   "source": [
    "### `groupreduce`\n",
    "\n",
    "- Like `groupby`, but **much** more memory efficient!"
   ]
  },
  {
   "cell_type": "code",
   "execution_count": null,
   "metadata": {},
   "outputs": [],
   "source": [
    "temp = groupreduce(Mean(), t, :Stock, select=:Open => x -> x + 1)\n",
    "select(temp, (1, 2 => value))"
   ]
  },
  {
   "cell_type": "markdown",
   "metadata": {},
   "source": [
    "### Make All Plots at Once"
   ]
  },
  {
   "cell_type": "code",
   "execution_count": null,
   "metadata": {},
   "outputs": [],
   "source": [
    "allplots = groupreduce(IndexedPartition(Date, Extrema()), t, :Stock, select=(:Date, :Close))"
   ]
  },
  {
   "cell_type": "code",
   "execution_count": null,
   "metadata": {
    "scrolled": false
   },
   "outputs": [],
   "source": [
    "@manipulate for s in [\"aapl\", \"msft\", \"ibm\", \"googl\", \"nflx\"]\n",
    "    t2 = filter(==(\"$s.us.txt\"), allplots, select=:Stock)\n",
    "    plot(t2[1].IndexedPartition, title=s)\n",
    "end"
   ]
  },
  {
   "cell_type": "markdown",
   "metadata": {},
   "source": [
    "<br><br><br><br><br><br><br><br><br><br><br><br><br>\n",
    "\n",
    "## Time Series Analysis Tools\n",
    "\n",
    "### Singular Spectrum Analysis\n",
    "\n",
    "- Extract seasonal components out of a time series\n",
    "- Calculated \"offline\", but a useful tool"
   ]
  },
  {
   "cell_type": "code",
   "execution_count": null,
   "metadata": {},
   "outputs": [],
   "source": [
    "temp = filter(==(\"aapl.us.txt\"), t, select=:Stock)\n",
    "\n",
    "yt, ys = analyze(select(temp, :Close), 90)\n",
    "plot(yt, lab=\"Trend\")\n",
    "plot!(ys, lab=\"Season\")"
   ]
  },
  {
   "cell_type": "markdown",
   "metadata": {},
   "source": [
    "### Autocorrelation"
   ]
  },
  {
   "cell_type": "code",
   "execution_count": null,
   "metadata": {
    "scrolled": false
   },
   "outputs": [],
   "source": [
    "temp = filter(==(\"aapl.us.txt\"), t, select=:Stock)\n",
    "\n",
    "\n",
    "plot(fit!(AutoCov(365), select(temp, :Close)))"
   ]
  },
  {
   "cell_type": "markdown",
   "metadata": {},
   "source": [
    "<br><br><br><br><br><br><br><br><br><br><br><br><br><br>\n",
    "# TrueFX API"
   ]
  },
  {
   "cell_type": "code",
   "execution_count": null,
   "metadata": {},
   "outputs": [],
   "source": [
    "function get_data(q = \"\")\n",
    "    endpoint = \"https://webrates.truefx.com/rates/connect.html?f=csv&$q\"\n",
    "    hdr = [:pair, :utc, :big_bid_figure, :bid_points, :offer_bid_figure,\n",
    "           :offer_points, :high, :low, :open]\n",
    "    r = HTTP.get(endpoint)\n",
    "    CSV.read(r.body; header=hdr, footerskip=1)\n",
    "end"
   ]
  },
  {
   "cell_type": "code",
   "execution_count": null,
   "metadata": {},
   "outputs": [],
   "source": [
    "get_data(\"c=EUR/USD\")"
   ]
  },
  {
   "cell_type": "code",
   "execution_count": null,
   "metadata": {
    "scrolled": false
   },
   "outputs": [],
   "source": [
    "o = IndexedPartition(Int, Extrema(), 10)\n",
    "\n",
    "while true\n",
    "    IJulia.clear_output(true)\n",
    "    df = get_data(\"c=USD/JPY\")\n",
    "    fit!(o, (df[1, :utc], df[1, :bid_points]))\n",
    "    display(plot(o, xlab=\"UTC Time\", ylab=\"Bid Points\", title=\"nobs = $(nobs(o))\"))\n",
    "end"
   ]
  },
  {
   "cell_type": "markdown",
   "metadata": {},
   "source": [
    "<br><br><br><br><br><br><br><br><br><br>\n",
    "## NYC Yellow Taxi Data (2018)\n",
    "\n",
    "- Source: https://www1.nyc.gov/site/tlc/about/tlc-trip-record-data.page\n",
    "- Data on every single yellow taxi trip in 2018!"
   ]
  },
  {
   "cell_type": "code",
   "execution_count": null,
   "metadata": {},
   "outputs": [],
   "source": [
    "datapath = \"/Users/joshday/datasets/nyc_yellow_taxi_2018\"\n",
    "\n",
    "sum(filesize, (\"$datapath/$file\") for file in readdir(datapath)) / 1024^3"
   ]
  },
  {
   "cell_type": "code",
   "execution_count": null,
   "metadata": {},
   "outputs": [],
   "source": [
    ";head \"$datapath/yellow_tripdata_2018-01.csv\""
   ]
  },
  {
   "cell_type": "code",
   "execution_count": null,
   "metadata": {},
   "outputs": [],
   "source": [
    "passenger_counts = Partition(CountMap(Int), 365)\n",
    "@showprogress for file in readdir(datapath), row in CSV.Rows(\"$datapath/$file\", skipto=3)\n",
    "    fit!(passenger_counts, parse(Int, row.passenger_count))\n",
    "end\n",
    "plot(passenger_counts)"
   ]
  },
  {
   "cell_type": "markdown",
   "metadata": {},
   "source": [
    "### In Parallel"
   ]
  },
  {
   "cell_type": "code",
   "execution_count": null,
   "metadata": {},
   "outputs": [],
   "source": [
    "using Distributed\n",
    "addprocs()\n",
    "\n",
    "@everywhere begin \n",
    "    datapath = \"/Users/joshday/datasets/nyc_yellow_taxi_2018\"\n",
    "    using Dates, OnlineStats, CSV\n",
    "end "
   ]
  },
  {
   "cell_type": "code",
   "execution_count": null,
   "metadata": {
    "scrolled": false
   },
   "outputs": [],
   "source": [
    "@time begin\n",
    "    gb = @distributed merge for file in readdir(datapath)\n",
    "        stat = GroupBy(Date, CountMap(Int))\n",
    "        for row in CSV.Rows(\"$datapath/$file\", skipto=3)\n",
    "            fit!(stat, Date(row.tpep_pickup_datetime[1:10]) => parse(Int, row.passenger_count))\n",
    "        end\n",
    "        stat\n",
    "    end\n",
    "end\n",
    "nothing"
   ]
  },
  {
   "cell_type": "code",
   "execution_count": null,
   "metadata": {
    "scrolled": false
   },
   "outputs": [],
   "source": [
    "@manipulate for day in Date(2018,1,1):Day(1):Date(2018,12,31)\n",
    "    plot(gb.value[day], title=string(day))\n",
    "end"
   ]
  },
  {
   "cell_type": "code",
   "execution_count": null,
   "metadata": {},
   "outputs": [],
   "source": []
  }
 ],
 "metadata": {
  "@webio": {
   "lastCommId": null,
   "lastKernelId": null
  },
  "kernelspec": {
   "display_name": "Julia 1.3.0",
   "language": "julia",
   "name": "julia-1.3"
  },
  "language_info": {
   "file_extension": ".jl",
   "mimetype": "application/julia",
   "name": "julia",
   "version": "1.3.0"
  }
 },
 "nbformat": 4,
 "nbformat_minor": 2
}
